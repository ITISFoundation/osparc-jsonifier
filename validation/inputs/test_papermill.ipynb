{
 "cells": [
  {
   "cell_type": "code",
   "execution_count": 27,
   "id": "910f982a-3cd1-4ea5-a784-0fa0e8f61b63",
   "metadata": {
    "tags": []
   },
   "outputs": [
    {
     "name": "stdout",
     "output_type": "stream",
     "text": [
      "Notebook started\n"
     ]
    }
   ],
   "source": [
    "print(\"Notebook started\")"
   ]
  },
  {
   "cell_type": "code",
   "execution_count": 28,
   "id": "266b7a73-4bc0-4688-8a90-4ca22c7a983f",
   "metadata": {
    "tags": []
   },
   "outputs": [],
   "source": [
    "import json\n",
    "import os\n",
    "import pathlib as pl"
   ]
  },
  {
   "cell_type": "code",
   "execution_count": 29,
   "id": "d60656d4-a29b-4b00-9f6c-9a0266e6787e",
   "metadata": {
    "tags": []
   },
   "outputs": [
    {
     "name": "stdout",
     "output_type": "stream",
     "text": [
      "environ({'SHELL': '/bin/bash', 'PUID': '8004', 'HOSTNAME': 'c401e4579862', 'LANGUAGE': 'en_US.UTF-8', 'DY_SIDECAR_PATH_INPUTS': '/home/jovyan/work/inputs', 'NB_UID': '1000', 'PWD': '/home/jovyan', 'HOME': '/home/jovyan', 'LANG': 'en_US.UTF-8', 'DY_BOOT_OPTION_BOOT_MODE': '0', 'PGID': '8004', 'VIRTUAL_ENV': '/home/jovyan/.venv', 'NB_GID': '100', 'NOTEBOOK_BASE_DIR': '/home/jovyan/work', 'OSPARC_STUDY_ID': '3b7c844e-a8b3-11ef-9ec3-02420a08f187', 'SIMCORE_NODE_BASEPATH': '', 'XDG_CACHE_HOME': '/home/jovyan/.cache/', 'JUPYTER_ENABLE_LAB': 'yes', 'OSPARC_API_KEY': '__aut_2b125fc49268a307a897', 'OSPARC_API_BASE_URL': 'https://api.osparc-staging.speag.com', 'SHLVL': '1', 'CONDA_DIR': '/opt/conda', 'DY_SIDECAR_PATH_OUTPUTS': '/home/jovyan/work/outputs', 'DY_SIDECAR_STATE_PATHS': '[\"/home/jovyan/work/workspace\"]', 'JP_LSP_VIRTUAL_DIR': '/home/jovyan/.virtual_documents', 'OSPARC_API_SECRET': 'f606efd6e5862b34f7bd9f75e2aaef2c70400f67', 'NB_USER': 'jovyan', 'LC_ALL': 'en_US.UTF-8', 'SIMCORE_NANO_CPUS_LIMIT': '4000000000', 'OSPARC_NODE_ID': '11436267-717d-43a8-81ec-ade08fbdad95', 'PATH': '/home/jovyan/.venv/bin:/opt/conda/bin:/usr/local/sbin:/usr/local/bin:/usr/sbin:/usr/bin:/sbin:/bin', 'NOTEBOOK_TOKEN': '', 'SIMCORE_MEMORY_BYTES_LIMIT': '17179869184', 'DEBIAN_FRONTEND': 'noninteractive', 'GIT_PYTHON_REFRESH': 'quiet', 'PYTHONUNBUFFERED': '1', 'JPY_SESSION_NAME': 'workspace/164f4feb-693c-474c-b8dc-81e84fd6c043', 'JPY_PARENT_PID': '61', 'PYDEVD_USE_FRAME_EVAL': 'NO', 'TERM': 'xterm-color', 'CLICOLOR': '1', 'FORCE_COLOR': '1', 'CLICOLOR_FORCE': '1', 'PAGER': 'cat', 'GIT_PAGER': 'cat', 'MPLBACKEND': 'module://matplotlib_inline.backend_inline'})\n"
     ]
    }
   ],
   "source": [
    "print(os.environ)"
   ]
  },
  {
   "cell_type": "code",
   "execution_count": 30,
   "id": "5b475522-683c-4d7b-ad4a-297d9d80208a",
   "metadata": {
    "tags": []
   },
   "outputs": [],
   "source": [
    "input_path = pl.Path(os.environ['DY_SIDECAR_PATH_INPUTS'])\n",
    "output_path = pl.Path(os.environ['DY_SIDECAR_PATH_OUTPUTS'])"
   ]
  },
  {
   "cell_type": "code",
   "execution_count": 31,
   "id": "569086fd-2ad7-4959-b85b-5dc9c9be6ee2",
   "metadata": {
    "tags": []
   },
   "outputs": [],
   "source": [
    "test_json_path = input_path / 'input_1' / 'test.json'"
   ]
  },
  {
   "cell_type": "code",
   "execution_count": 32,
   "id": "40fac9d3-7e11-4508-bf35-886bda4e27b4",
   "metadata": {
    "tags": []
   },
   "outputs": [
    {
     "name": "stdout",
     "output_type": "stream",
     "text": [
      "{'input': 'test'}\n"
     ]
    }
   ],
   "source": [
    "print(json.loads(test_json_path.read_text()))"
   ]
  },
  {
   "cell_type": "code",
   "execution_count": 33,
   "id": "275268b6-7d91-45a4-893d-69532c3bf39d",
   "metadata": {
    "tags": []
   },
   "outputs": [
    {
     "name": "stdout",
     "output_type": "stream",
     "text": [
      "Notebook ended\n"
     ]
    }
   ],
   "source": [
    "print(\"Notebook ended\")"
   ]
  }
 ],
 "metadata": {
  "kernelspec": {
   "display_name": "python (maths)",
   "language": "python",
   "name": "python-maths"
  },
  "language_info": {
   "codemirror_mode": {
    "name": "ipython",
    "version": 3
   },
   "file_extension": ".py",
   "mimetype": "text/x-python",
   "name": "python",
   "nbconvert_exporter": "python",
   "pygments_lexer": "ipython3",
   "version": "3.9.10"
  }
 },
 "nbformat": 4,
 "nbformat_minor": 5
}
